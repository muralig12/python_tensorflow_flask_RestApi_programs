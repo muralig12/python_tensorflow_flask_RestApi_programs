{
 "cells": [
  {
   "cell_type": "code",
   "execution_count": 2,
   "metadata": {},
   "outputs": [],
   "source": [
    "#import desired packages\n",
    "import tensorflow as tf\n",
    "import numpy as np\n",
    "import pandas as pd\n",
    "import seaborn as sns\n",
    "import matplotlib.pyplot as plt\n",
    "%matplotlib inline"
   ]
  },
  {
   "cell_type": "code",
   "execution_count": 35,
   "metadata": {},
   "outputs": [],
   "source": [
    "#import data \n",
    "data=pd.read_csv('iris.csv', names=['f1','f2','f3','f4','f5'])\n",
    "data.drop([0],axis=0,inplace=True)"
   ]
  },
  {
   "cell_type": "code",
   "execution_count": 36,
   "metadata": {},
   "outputs": [
    {
     "name": "stdout",
     "output_type": "stream",
     "text": [
      "    f1   f2   f3   f4      f5\n",
      "1  5.1  3.5  1.4  0.2  setosa\n",
      "2  4.9  3.0  1.4  0.2  setosa\n",
      "3  4.7  3.2  1.3  0.2  setosa\n",
      "4  4.6  3.1  1.5  0.2  setosa\n",
      "5  5.0  3.6  1.4  0.2  setosa\n"
     ]
    }
   ],
   "source": [
    "print(data.head())"
   ]
  },
  {
   "cell_type": "code",
   "execution_count": 37,
   "metadata": {},
   "outputs": [
    {
     "data": {
      "text/plain": [
       "setosa        50\n",
       "virginica     50\n",
       "versicolor    50\n",
       "Name: f5, dtype: int64"
      ]
     },
     "execution_count": 37,
     "metadata": {},
     "output_type": "execute_result"
    }
   ],
   "source": [
    "data[\"f5\"].value_counts()"
   ]
  },
  {
   "cell_type": "code",
   "execution_count": 38,
   "metadata": {},
   "outputs": [
    {
     "name": "stderr",
     "output_type": "stream",
     "text": [
      "/home/srikanth/anaconda3/envs/my_env/lib/python3.6/site-packages/seaborn/axisgrid.py:230: UserWarning: The `size` paramter has been renamed to `height`; please update your code.\n",
      "  warnings.warn(msg, UserWarning)\n"
     ]
    },
    {
     "data": {
      "text/plain": [
       "<seaborn.axisgrid.FacetGrid at 0x7f641c514d30>"
      ]
     },
     "execution_count": 38,
     "metadata": {},
     "output_type": "execute_result"
    },
    {
     "data": {
      "image/png": "[encoded data removed]",
      "text/plain": [
       "<Figure size 444.75x360 with 1 Axes>"
      ]
     },
     "metadata": {
      "needs_background": "light"
     },
     "output_type": "display_data"
    }
   ],
   "source": [
    "sns.FacetGrid(data, hue=\"f5\", size=5) \\\n",
    "   .map(plt.scatter, \"f1\", \"f2\") \\\n",
    "   .add_legend()"
   ]
  },
  {
   "cell_type": "code",
   "execution_count": 39,
   "metadata": {},
   "outputs": [],
   "source": [
    "#map data into arrays\n",
    "s=np.asarray([1,0,0])\n",
    "ve=np.asarray([0,1,0])\n",
    "vi=np.asarray([0,0,1])\n",
    "data['f5'] = data['f5'].map({'setosa': s, 'versicolor': ve,'virginica':vi})"
   ]
  },
  {
   "cell_type": "code",
   "execution_count": 40,
   "metadata": {},
   "outputs": [
    {
     "name": "stdout",
     "output_type": "stream",
     "text": [
      "     f1   f2   f3   f4         f5\n",
      "1   5.1  3.5  1.4  0.2  [1, 0, 0]\n",
      "2   4.9  3.0  1.4  0.2  [1, 0, 0]\n",
      "3   4.7  3.2  1.3  0.2  [1, 0, 0]\n",
      "4   4.6  3.1  1.5  0.2  [1, 0, 0]\n",
      "5   5.0  3.6  1.4  0.2  [1, 0, 0]\n",
      "6   5.4  3.9  1.7  0.4  [1, 0, 0]\n",
      "7   4.6  3.4  1.4  0.3  [1, 0, 0]\n",
      "8   5.0  3.4  1.5  0.2  [1, 0, 0]\n",
      "9   4.4  2.9  1.4  0.2  [1, 0, 0]\n",
      "10  4.9  3.1  1.5  0.1  [1, 0, 0]\n"
     ]
    }
   ],
   "source": [
    "print(data.head(10))"
   ]
  },
  {
   "cell_type": "code",
   "execution_count": 41,
   "metadata": {},
   "outputs": [],
   "source": [
    "#shuffle the data\n",
    "data=data.iloc[np.random.permutation(len(data))]\n"
   ]
  },
  {
   "cell_type": "code",
   "execution_count": 42,
   "metadata": {},
   "outputs": [
    {
     "name": "stdout",
     "output_type": "stream",
     "text": [
      "      f1   f2   f3   f4         f5\n",
      "25   4.8  3.4  1.9  0.2  [1, 0, 0]\n",
      "132  7.9  3.8  6.4  2.0  [0, 0, 1]\n",
      "118  7.7  3.8  6.7  2.2  [0, 0, 1]\n",
      "17   5.4  3.9  1.3  0.4  [1, 0, 0]\n",
      "51   7.0  3.2  4.7  1.4  [0, 1, 0]\n",
      "68   5.8  2.7  4.1  1.0  [0, 1, 0]\n",
      "131  7.4  2.8  6.1  1.9  [0, 0, 1]\n",
      "69   6.2  2.2  4.5  1.5  [0, 1, 0]\n",
      "114  5.7  2.5  5.0  2.0  [0, 0, 1]\n",
      "14   4.3  3.0  1.1  0.1  [1, 0, 0]\n"
     ]
    }
   ],
   "source": [
    "print(data.head(10))"
   ]
  },
  {
   "cell_type": "code",
   "execution_count": 43,
   "metadata": {},
   "outputs": [],
   "source": [
    "data=data.reset_index(drop=True)\n"
   ]
  },
  {
   "cell_type": "code",
   "execution_count": 56,
   "metadata": {},
   "outputs": [
    {
     "name": "stdout",
     "output_type": "stream",
     "text": [
      "      f1   f2   f3   f4         f5\n",
      "0    4.8  3.4  1.9  0.2  [1, 0, 0]\n",
      "1    7.9  3.8  6.4  2.0  [0, 0, 1]\n",
      "2    7.7  3.8  6.7  2.2  [0, 0, 1]\n",
      "3    5.4  3.9  1.3  0.4  [1, 0, 0]\n",
      "4    7.0  3.2  4.7  1.4  [0, 1, 0]\n",
      "5    5.8  2.7  4.1  1.0  [0, 1, 0]\n",
      "6    7.4  2.8  6.1  1.9  [0, 0, 1]\n",
      "7    6.2  2.2  4.5  1.5  [0, 1, 0]\n",
      "8    5.7  2.5  5.0  2.0  [0, 0, 1]\n",
      "9    4.3  3.0  1.1  0.1  [1, 0, 0]\n",
      "10   5.4  3.9  1.7  0.4  [1, 0, 0]\n",
      "11   5.0  3.5  1.3  0.3  [1, 0, 0]\n",
      "12   5.1  3.5  1.4  0.2  [1, 0, 0]\n",
      "13   5.5  3.5  1.3  0.2  [1, 0, 0]\n",
      "14   6.0  3.4  4.5  1.6  [0, 1, 0]\n",
      "15   5.0  3.6  1.4  0.2  [1, 0, 0]\n",
      "16   6.7  3.1  4.7  1.5  [0, 1, 0]\n",
      "17   6.9  3.1  5.1  2.3  [0, 0, 1]\n",
      "18   6.2  2.9  4.3  1.3  [0, 1, 0]\n",
      "19   5.8  2.7  3.9  1.2  [0, 1, 0]\n",
      "20   7.7  2.6  6.9  2.3  [0, 0, 1]\n",
      "21   6.5  3.0  5.5  1.8  [0, 0, 1]\n",
      "22   6.0  2.2  4.0  1.0  [0, 1, 0]\n",
      "23   4.9  3.1  1.5  0.1  [1, 0, 0]\n",
      "24   5.2  3.4  1.4  0.2  [1, 0, 0]\n",
      "25   4.9  3.1  1.5  0.1  [1, 0, 0]\n",
      "26   5.0  2.0  3.5  1.0  [0, 1, 0]\n",
      "27   7.2  3.2  6.0  1.8  [0, 0, 1]\n",
      "28   7.7  2.8  6.7  2.0  [0, 0, 1]\n",
      "29   5.4  3.7  1.5  0.2  [1, 0, 0]\n",
      "..   ...  ...  ...  ...        ...\n",
      "101  5.8  2.8  5.1  2.4  [0, 0, 1]\n",
      "102  4.4  3.0  1.3  0.2  [1, 0, 0]\n",
      "103  5.5  4.2  1.4  0.2  [1, 0, 0]\n",
      "104  5.5  2.6  4.4  1.2  [0, 1, 0]\n",
      "105  6.4  2.8  5.6  2.2  [0, 0, 1]\n",
      "106  6.3  2.9  5.6  1.8  [0, 0, 1]\n",
      "107  4.6  3.4  1.4  0.3  [1, 0, 0]\n",
      "108  6.5  3.0  5.8  2.2  [0, 0, 1]\n",
      "109  5.7  2.8  4.1  1.3  [0, 1, 0]\n",
      "110  5.0  2.3  3.3  1.0  [0, 1, 0]\n",
      "111  6.7  3.0  5.0  1.7  [0, 1, 0]\n",
      "112  6.1  2.8  4.0  1.3  [0, 1, 0]\n",
      "113  6.0  2.2  5.0  1.5  [0, 0, 1]\n",
      "114  7.1  3.0  5.9  2.1  [0, 0, 1]\n",
      "115  5.6  2.7  4.2  1.3  [0, 1, 0]\n",
      "116  5.1  3.5  1.4  0.3  [1, 0, 0]\n",
      "117  4.6  3.2  1.4  0.2  [1, 0, 0]\n",
      "118  6.4  3.1  5.5  1.8  [0, 0, 1]\n",
      "119  6.3  2.5  4.9  1.5  [0, 1, 0]\n",
      "120  5.0  3.3  1.4  0.2  [1, 0, 0]\n",
      "121  5.0  3.4  1.6  0.4  [1, 0, 0]\n",
      "122  4.8  3.4  1.6  0.2  [1, 0, 0]\n",
      "123  4.9  3.0  1.4  0.2  [1, 0, 0]\n",
      "124  4.9  2.5  4.5  1.7  [0, 0, 1]\n",
      "125  5.2  4.1  1.5  0.1  [1, 0, 0]\n",
      "126  6.2  3.4  5.4  2.3  [0, 0, 1]\n",
      "127  5.7  2.8  4.5  1.3  [0, 1, 0]\n",
      "128  4.5  2.3  1.3  0.3  [1, 0, 0]\n",
      "129  6.7  2.5  5.8  1.8  [0, 0, 1]\n",
      "130  6.9  3.2  5.7  2.3  [0, 0, 1]\n",
      "\n",
      "[131 rows x 5 columns]\n"
     ]
    }
   ],
   "source": [
    "print(data.head(131))\n"
   ]
  },
  {
   "cell_type": "code",
   "execution_count": 46,
   "metadata": {},
   "outputs": [
    {
     "name": "stderr",
     "output_type": "stream",
     "text": [
      "/home/srikanth/anaconda3/envs/my_env/lib/python3.6/site-packages/ipykernel_launcher.py:2: DeprecationWarning: \n",
      ".ix is deprecated. Please use\n",
      ".loc for label based indexing or\n",
      ".iloc for positional indexing\n",
      "\n",
      "See the documentation here:\n",
      "http://pandas.pydata.org/pandas-docs/stable/indexing.html#ix-indexer-is-deprecated\n",
      "  \n",
      "/home/srikanth/anaconda3/envs/my_env/lib/python3.6/site-packages/ipykernel_launcher.py:6: DeprecationWarning: \n",
      ".ix is deprecated. Please use\n",
      ".loc for label based indexing or\n",
      ".iloc for positional indexing\n",
      "\n",
      "See the documentation here:\n",
      "http://pandas.pydata.org/pandas-docs/stable/indexing.html#ix-indexer-is-deprecated\n",
      "  \n"
     ]
    }
   ],
   "source": [
    "#training data\n",
    "x_input=data.ix[0:105,['f1','f2','f3','f4']]\n",
    "temp=data['f5']\n",
    "y_input=temp[0:106]\n",
    "#test data\n",
    "x_test=data.ix[106:149,['f1','f2','f3','f4']]\n",
    "y_test=temp[106:150]"
   ]
  },
  {
   "cell_type": "code",
   "execution_count": 47,
   "metadata": {},
   "outputs": [],
   "source": [
    "#placeholders and variables. input has 4 features and output has 3 classes\n",
    "x=tf.placeholder(tf.float32,shape=[None,4])\n",
    "y_=tf.placeholder(tf.float32,shape=[None, 3])\n",
    "#weight and bias\n",
    "W=tf.Variable(tf.zeros([4,3]))\n",
    "b=tf.Variable(tf.zeros([3]))"
   ]
  },
  {
   "cell_type": "code",
   "execution_count": 48,
   "metadata": {},
   "outputs": [],
   "source": [
    "# model \n",
    "#softmax function for multiclass classification\n",
    "y = tf.nn.softmax(tf.matmul(x, W) + b)"
   ]
  },
  {
   "cell_type": "code",
   "execution_count": 49,
   "metadata": {},
   "outputs": [],
   "source": [
    "#loss function\n",
    "cross_entropy = tf.reduce_mean(-tf.reduce_sum(y_ * tf.log(y), reduction_indices=[1]))"
   ]
  },
  {
   "cell_type": "code",
   "execution_count": 50,
   "metadata": {},
   "outputs": [],
   "source": [
    "#optimiser -\n",
    "train_step = tf.train.AdamOptimizer(0.01).minimize(cross_entropy)\n",
    "#calculating accuracy of our model \n",
    "correct_prediction = tf.equal(tf.argmax(y,1), tf.argmax(y_,1))\n",
    "accuracy = tf.reduce_mean(tf.cast(correct_prediction, tf.float32))"
   ]
  },
  {
   "cell_type": "code",
   "execution_count": 51,
   "metadata": {},
   "outputs": [
    {
     "name": "stdout",
     "output_type": "stream",
     "text": [
      "WARNING:tensorflow:From /home/srikanth/anaconda3/envs/my_env/lib/python3.6/site-packages/tensorflow/python/util/tf_should_use.py:189: initialize_all_variables (from tensorflow.python.ops.variables) is deprecated and will be removed after 2017-03-02.\n",
      "Instructions for updating:\n",
      "Use `tf.global_variables_initializer` instead.\n"
     ]
    }
   ],
   "source": [
    "#session parameters\n",
    "sess = tf.InteractiveSession()\n",
    "#initialising variables\n",
    "init = tf.initialize_all_variables()\n",
    "sess.run(init)\n",
    "#number of interations\n",
    "epoch=2000"
   ]
  },
  {
   "cell_type": "code",
   "execution_count": 70,
   "metadata": {},
   "outputs": [
    {
     "name": "stderr",
     "output_type": "stream",
     "text": [
      "/home/srikanth/anaconda3/envs/my_env/lib/python3.6/site-packages/ipykernel_launcher.py:2: FutureWarning: Method .as_matrix will be removed in a future version. Use .values instead.\n",
      "  \n"
     ]
    },
    {
     "name": "stdout",
     "output_type": "stream",
     "text": [
      "0.0378654\n",
      "0.03622655\n",
      "0.034883626\n",
      "0.033760857\n"
     ]
    }
   ],
   "source": [
    "for step in range(epoch):\n",
    "   _, c=sess.run([train_step,cross_entropy], feed_dict={x: x_input, y_:[t for t in y_input.as_matrix()]})\n",
    "   if step%500==0:\n",
    "       print(c)"
   ]
  },
  {
   "cell_type": "code",
   "execution_count": 95,
   "metadata": {},
   "outputs": [
    {
     "name": "stdout",
     "output_type": "stream",
     "text": [
      "f1    6.9\n",
      "f2    3.2\n",
      "f3    5.7\n",
      "f4    2.3\n",
      "Name: 130, dtype: object\n"
     ]
    },
    {
     "ename": "IndexError",
     "evalue": "Too many levels: Index has only 1 level, not 2",
     "output_type": "error",
     "traceback": [
      "\u001b[0;31m---------------------------------------------------------------------------\u001b[0m",
      "\u001b[0;31mIndexError\u001b[0m                                Traceback (most recent call last)",
      "\u001b[0;32m<ipython-input-95-3e2ad0861976>\u001b[0m in \u001b[0;36m<module>\u001b[0;34m\u001b[0m\n\u001b[1;32m      3\u001b[0m \u001b[0mprint\u001b[0m\u001b[0;34m(\u001b[0m\u001b[0ma\u001b[0m\u001b[0;34m)\u001b[0m\u001b[0;34m\u001b[0m\u001b[0m\n\u001b[1;32m      4\u001b[0m \u001b[0;34m\u001b[0m\u001b[0m\n\u001b[0;32m----> 5\u001b[0;31m \u001b[0mb\u001b[0m\u001b[0;34m=\u001b[0m\u001b[0ma\u001b[0m\u001b[0;34m.\u001b[0m\u001b[0mreset_index\u001b[0m\u001b[0;34m(\u001b[0m\u001b[0;36m1\u001b[0m\u001b[0;34m)\u001b[0m\u001b[0;34m\u001b[0m\u001b[0m\n\u001b[0m\u001b[1;32m      6\u001b[0m \u001b[0mprint\u001b[0m\u001b[0;34m(\u001b[0m\u001b[0mb\u001b[0m\u001b[0;34m)\u001b[0m\u001b[0;34m\u001b[0m\u001b[0m\n\u001b[1;32m      7\u001b[0m \u001b[0mlargest\u001b[0m \u001b[0;34m=\u001b[0m \u001b[0msess\u001b[0m\u001b[0;34m.\u001b[0m\u001b[0mrun\u001b[0m\u001b[0;34m(\u001b[0m\u001b[0mtf\u001b[0m\u001b[0;34m.\u001b[0m\u001b[0marg_max\u001b[0m\u001b[0;34m(\u001b[0m\u001b[0my\u001b[0m\u001b[0;34m,\u001b[0m\u001b[0;36m1\u001b[0m\u001b[0;34m)\u001b[0m\u001b[0;34m,\u001b[0m \u001b[0mfeed_dict\u001b[0m\u001b[0;34m=\u001b[0m\u001b[0;34m{\u001b[0m\u001b[0mx\u001b[0m\u001b[0;34m:\u001b[0m \u001b[0mb\u001b[0m\u001b[0;34m}\u001b[0m\u001b[0;34m)\u001b[0m\u001b[0;34m[\u001b[0m\u001b[0;36m0\u001b[0m\u001b[0;34m]\u001b[0m\u001b[0;34m\u001b[0m\u001b[0m\n",
      "\u001b[0;32m~/anaconda3/envs/my_env/lib/python3.6/site-packages/pandas/core/series.py\u001b[0m in \u001b[0;36mreset_index\u001b[0;34m(self, level, drop, name, inplace)\u001b[0m\n\u001b[1;32m   1217\u001b[0m         \u001b[0;32melse\u001b[0m\u001b[0;34m:\u001b[0m\u001b[0;34m\u001b[0m\u001b[0m\n\u001b[1;32m   1218\u001b[0m             \u001b[0mdf\u001b[0m \u001b[0;34m=\u001b[0m \u001b[0mself\u001b[0m\u001b[0;34m.\u001b[0m\u001b[0mto_frame\u001b[0m\u001b[0;34m(\u001b[0m\u001b[0mname\u001b[0m\u001b[0;34m)\u001b[0m\u001b[0;34m\u001b[0m\u001b[0m\n\u001b[0;32m-> 1219\u001b[0;31m             \u001b[0;32mreturn\u001b[0m \u001b[0mdf\u001b[0m\u001b[0;34m.\u001b[0m\u001b[0mreset_index\u001b[0m\u001b[0;34m(\u001b[0m\u001b[0mlevel\u001b[0m\u001b[0;34m=\u001b[0m\u001b[0mlevel\u001b[0m\u001b[0;34m,\u001b[0m \u001b[0mdrop\u001b[0m\u001b[0;34m=\u001b[0m\u001b[0mdrop\u001b[0m\u001b[0;34m)\u001b[0m\u001b[0;34m\u001b[0m\u001b[0m\n\u001b[0m\u001b[1;32m   1220\u001b[0m \u001b[0;34m\u001b[0m\u001b[0m\n\u001b[1;32m   1221\u001b[0m     \u001b[0;32mdef\u001b[0m \u001b[0m__unicode__\u001b[0m\u001b[0;34m(\u001b[0m\u001b[0mself\u001b[0m\u001b[0;34m)\u001b[0m\u001b[0;34m:\u001b[0m\u001b[0;34m\u001b[0m\u001b[0m\n",
      "\u001b[0;32m~/anaconda3/envs/my_env/lib/python3.6/site-packages/pandas/core/frame.py\u001b[0m in \u001b[0;36mreset_index\u001b[0;34m(self, level, drop, inplace, col_level, col_fill)\u001b[0m\n\u001b[1;32m   4099\u001b[0m             \u001b[0;32mif\u001b[0m \u001b[0;32mnot\u001b[0m \u001b[0misinstance\u001b[0m\u001b[0;34m(\u001b[0m\u001b[0mlevel\u001b[0m\u001b[0;34m,\u001b[0m \u001b[0;34m(\u001b[0m\u001b[0mtuple\u001b[0m\u001b[0;34m,\u001b[0m \u001b[0mlist\u001b[0m\u001b[0;34m)\u001b[0m\u001b[0;34m)\u001b[0m\u001b[0;34m:\u001b[0m\u001b[0;34m\u001b[0m\u001b[0m\n\u001b[1;32m   4100\u001b[0m                 \u001b[0mlevel\u001b[0m \u001b[0;34m=\u001b[0m \u001b[0;34m[\u001b[0m\u001b[0mlevel\u001b[0m\u001b[0;34m]\u001b[0m\u001b[0;34m\u001b[0m\u001b[0m\n\u001b[0;32m-> 4101\u001b[0;31m             \u001b[0mlevel\u001b[0m \u001b[0;34m=\u001b[0m \u001b[0;34m[\u001b[0m\u001b[0mself\u001b[0m\u001b[0;34m.\u001b[0m\u001b[0mindex\u001b[0m\u001b[0;34m.\u001b[0m\u001b[0m_get_level_number\u001b[0m\u001b[0;34m(\u001b[0m\u001b[0mlev\u001b[0m\u001b[0;34m)\u001b[0m \u001b[0;32mfor\u001b[0m \u001b[0mlev\u001b[0m \u001b[0;32min\u001b[0m \u001b[0mlevel\u001b[0m\u001b[0;34m]\u001b[0m\u001b[0;34m\u001b[0m\u001b[0m\n\u001b[0m\u001b[1;32m   4102\u001b[0m             \u001b[0;32mif\u001b[0m \u001b[0misinstance\u001b[0m\u001b[0;34m(\u001b[0m\u001b[0mself\u001b[0m\u001b[0;34m.\u001b[0m\u001b[0mindex\u001b[0m\u001b[0;34m,\u001b[0m \u001b[0mMultiIndex\u001b[0m\u001b[0;34m)\u001b[0m\u001b[0;34m:\u001b[0m\u001b[0;34m\u001b[0m\u001b[0m\n\u001b[1;32m   4103\u001b[0m                 \u001b[0;32mif\u001b[0m \u001b[0mlen\u001b[0m\u001b[0;34m(\u001b[0m\u001b[0mlevel\u001b[0m\u001b[0;34m)\u001b[0m \u001b[0;34m<\u001b[0m \u001b[0mself\u001b[0m\u001b[0;34m.\u001b[0m\u001b[0mindex\u001b[0m\u001b[0;34m.\u001b[0m\u001b[0mnlevels\u001b[0m\u001b[0;34m:\u001b[0m\u001b[0;34m\u001b[0m\u001b[0m\n",
      "\u001b[0;32m~/anaconda3/envs/my_env/lib/python3.6/site-packages/pandas/core/frame.py\u001b[0m in \u001b[0;36m<listcomp>\u001b[0;34m(.0)\u001b[0m\n\u001b[1;32m   4099\u001b[0m             \u001b[0;32mif\u001b[0m \u001b[0;32mnot\u001b[0m \u001b[0misinstance\u001b[0m\u001b[0;34m(\u001b[0m\u001b[0mlevel\u001b[0m\u001b[0;34m,\u001b[0m \u001b[0;34m(\u001b[0m\u001b[0mtuple\u001b[0m\u001b[0;34m,\u001b[0m \u001b[0mlist\u001b[0m\u001b[0;34m)\u001b[0m\u001b[0;34m)\u001b[0m\u001b[0;34m:\u001b[0m\u001b[0;34m\u001b[0m\u001b[0m\n\u001b[1;32m   4100\u001b[0m                 \u001b[0mlevel\u001b[0m \u001b[0;34m=\u001b[0m \u001b[0;34m[\u001b[0m\u001b[0mlevel\u001b[0m\u001b[0;34m]\u001b[0m\u001b[0;34m\u001b[0m\u001b[0m\n\u001b[0;32m-> 4101\u001b[0;31m             \u001b[0mlevel\u001b[0m \u001b[0;34m=\u001b[0m \u001b[0;34m[\u001b[0m\u001b[0mself\u001b[0m\u001b[0;34m.\u001b[0m\u001b[0mindex\u001b[0m\u001b[0;34m.\u001b[0m\u001b[0m_get_level_number\u001b[0m\u001b[0;34m(\u001b[0m\u001b[0mlev\u001b[0m\u001b[0;34m)\u001b[0m \u001b[0;32mfor\u001b[0m \u001b[0mlev\u001b[0m \u001b[0;32min\u001b[0m \u001b[0mlevel\u001b[0m\u001b[0;34m]\u001b[0m\u001b[0;34m\u001b[0m\u001b[0m\n\u001b[0m\u001b[1;32m   4102\u001b[0m             \u001b[0;32mif\u001b[0m \u001b[0misinstance\u001b[0m\u001b[0;34m(\u001b[0m\u001b[0mself\u001b[0m\u001b[0;34m.\u001b[0m\u001b[0mindex\u001b[0m\u001b[0;34m,\u001b[0m \u001b[0mMultiIndex\u001b[0m\u001b[0;34m)\u001b[0m\u001b[0;34m:\u001b[0m\u001b[0;34m\u001b[0m\u001b[0m\n\u001b[1;32m   4103\u001b[0m                 \u001b[0;32mif\u001b[0m \u001b[0mlen\u001b[0m\u001b[0;34m(\u001b[0m\u001b[0mlevel\u001b[0m\u001b[0;34m)\u001b[0m \u001b[0;34m<\u001b[0m \u001b[0mself\u001b[0m\u001b[0;34m.\u001b[0m\u001b[0mindex\u001b[0m\u001b[0;34m.\u001b[0m\u001b[0mnlevels\u001b[0m\u001b[0;34m:\u001b[0m\u001b[0;34m\u001b[0m\u001b[0m\n",
      "\u001b[0;32m~/anaconda3/envs/my_env/lib/python3.6/site-packages/pandas/core/indexes/base.py\u001b[0m in \u001b[0;36m_get_level_number\u001b[0;34m(self, level)\u001b[0m\n\u001b[1;32m   1959\u001b[0m \u001b[0;34m\u001b[0m\u001b[0m\n\u001b[1;32m   1960\u001b[0m     \u001b[0;32mdef\u001b[0m \u001b[0m_get_level_number\u001b[0m\u001b[0;34m(\u001b[0m\u001b[0mself\u001b[0m\u001b[0;34m,\u001b[0m \u001b[0mlevel\u001b[0m\u001b[0;34m)\u001b[0m\u001b[0;34m:\u001b[0m\u001b[0;34m\u001b[0m\u001b[0m\n\u001b[0;32m-> 1961\u001b[0;31m         \u001b[0mself\u001b[0m\u001b[0;34m.\u001b[0m\u001b[0m_validate_index_level\u001b[0m\u001b[0;34m(\u001b[0m\u001b[0mlevel\u001b[0m\u001b[0;34m)\u001b[0m\u001b[0;34m\u001b[0m\u001b[0m\n\u001b[0m\u001b[1;32m   1962\u001b[0m         \u001b[0;32mreturn\u001b[0m \u001b[0;36m0\u001b[0m\u001b[0;34m\u001b[0m\u001b[0m\n\u001b[1;32m   1963\u001b[0m \u001b[0;34m\u001b[0m\u001b[0m\n",
      "\u001b[0;32m~/anaconda3/envs/my_env/lib/python3.6/site-packages/pandas/core/indexes/base.py\u001b[0m in \u001b[0;36m_validate_index_level\u001b[0;34m(self, level)\u001b[0m\n\u001b[1;32m   1953\u001b[0m                 raise IndexError(\"Too many levels:\"\n\u001b[1;32m   1954\u001b[0m                                  \u001b[0;34m\" Index has only 1 level, not %d\"\u001b[0m \u001b[0;34m%\u001b[0m\u001b[0;34m\u001b[0m\u001b[0m\n\u001b[0;32m-> 1955\u001b[0;31m                                  (level + 1))\n\u001b[0m\u001b[1;32m   1956\u001b[0m         \u001b[0;32melif\u001b[0m \u001b[0mlevel\u001b[0m \u001b[0;34m!=\u001b[0m \u001b[0mself\u001b[0m\u001b[0;34m.\u001b[0m\u001b[0mname\u001b[0m\u001b[0;34m:\u001b[0m\u001b[0;34m\u001b[0m\u001b[0m\n\u001b[1;32m   1957\u001b[0m             raise KeyError('Level %s must be same as name (%s)' %\n",
      "\u001b[0;31mIndexError\u001b[0m: Too many levels: Index has only 1 level, not 2"
     ]
    }
   ],
   "source": [
    "#random testing at Sn.130\n",
    "a=data.loc[data.index[130],['f1','f2','f3','f4']]\n",
    "print(a)\n",
    "\n",
    "b=a.reset_index(1)\n",
    "print(b)\n",
    "largest = sess.run(tf.arg_max(y,1), feed_dict={x: b})[0]\n",
    "if largest==0:\n",
    "    print(\"flower is :Iris-setosa\")\n",
    "elif largest==1:\n",
    "    print(\"flower is :Iris-versicolor\")\n",
    "else :\n",
    "    print(\"flower is :Iris-virginica\")\n"
   ]
  },
  {
   "cell_type": "code",
   "execution_count": null,
   "metadata": {},
   "outputs": [],
   "source": [
    "print sess.run(accuracy,feed_dict={x: x_test, y_:[t for t in y_test.as_matrix()]})"
   ]
  }
 ],
 "metadata": {
  "kernelspec": {
   "display_name": "Python 3",
   "language": "python",
   "name": "python3"
  },
  "language_info": {
   "codemirror_mode": {
    "name": "ipython",
    "version": 3
   },
   "file_extension": ".py",
   "mimetype": "text/x-python",
   "name": "python",
   "nbconvert_exporter": "python",
   "pygments_lexer": "ipython3",
   "version": "3.6.6"
  }
 },
 "nbformat": 4,
 "nbformat_minor": 2
}
