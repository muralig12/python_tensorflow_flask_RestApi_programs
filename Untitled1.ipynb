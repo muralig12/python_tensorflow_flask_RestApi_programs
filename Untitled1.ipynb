{
 "cells": [
  {
   "cell_type": "code",
   "execution_count": 1,
   "metadata": {},
   "outputs": [],
   "source": [
    "def localize_objects():\n",
    "    \"\"\"Localize objects in the local image.\n",
    "\n",
    "    Args:\n",
    "    path: The path to the local file.\n",
    "    \"\"\"\n",
    "    from google.cloud import vision\n",
    "    client = vision.ImageAnnotatorClient()\n",
    "    \"\"\"\n",
    "    with open(path, 'rb') as image_file:\n",
    "        content = image_file.read()\n",
    "    \"\"\"\n",
    "    image=\"dog2.jpeg\"\n",
    "    image = vision.types.Image(content=image)\n",
    "\n",
    "    objects = client.object_localization(\n",
    "        image=image).localized_object_annotations\n",
    "\n",
    "    print('Number of objects found: {}'.format(len(objects)))\n",
    "    for object_ in objects:\n",
    "        print('\\n{} (confidence: {})'.format(object_.name, object_.score))\n",
    "        print('Normalized bounding polygon vertices: ')\n",
    "        for vertex in object_.bounding_poly.normalized_vertices:\n",
    "            print(' - ({}, {})'.format(vertex.x, vertex.y))"
   ]
  },
  {
   "cell_type": "code",
   "execution_count": null,
   "metadata": {},
   "outputs": [],
   "source": []
  }
 ],
 "metadata": {
  "kernelspec": {
   "display_name": "Python 3",
   "language": "python",
   "name": "python3"
  },
  "language_info": {
   "codemirror_mode": {
    "name": "ipython",
    "version": 3
   },
   "file_extension": ".py",
   "mimetype": "text/x-python",
   "name": "python",
   "nbconvert_exporter": "python",
   "pygments_lexer": "ipython3",
   "version": "3.7.3"
  }
 },
 "nbformat": 4,
 "nbformat_minor": 2
}
