{
 "cells": [
  {
   "cell_type": "code",
   "execution_count": 2,
   "metadata": {},
   "outputs": [],
   "source": [
    "import numpy as np\n",
    "import matplotlib.pyplot as plt \n",
    "import tensorflow as tf\n",
    "import tflearn\n",
    "from tflearn.data_utils import image_preloader\n",
    "\n",
    "import tensorflow as tf\n",
    "from PIL import Image\n",
    "%matplotlib inline"
   ]
  },
  {
   "cell_type": "code",
   "execution_count": null,
   "metadata": {},
   "outputs": [],
   "source": []
  },
  {
   "cell_type": "code",
   "execution_count": 7,
   "metadata": {},
   "outputs": [
    {
     "name": "stdout",
     "output_type": "stream",
     "text": [
      "INFO:tensorflow:Restoring parameters from /home/srikanth/python/kaggledataset/bin_images/binorgarbage.ckpt\n",
      "Tensor(\"input_image:0\", shape=(?, 56, 56, 3), dtype=float32)\n",
      "Tensor(\"input_class:0\", shape=(?, 2), dtype=float32)\n",
      "Tensor(\"output/Softmax:0\", shape=(?, 2), dtype=float32)\n"
     ]
    }
   ],
   "source": [
    "sess = tf.Session()\n",
    "#saver.restore(sess, \"/home/srikanth/python/kaggledataset/bin_images/binorgarbage.ckpt\")\n",
    "saver = tf.train.import_meta_graph(\"/home/srikanth/python/kaggledataset/bin_images/binorgarbage.ckpt.meta\")\n",
    "saver.restore(sess, tf.train.latest_checkpoint('/home/srikanth/python/kaggledataset/bin_images/'))\n",
    "#sess.run(tf.initialize_all_variables())   \n",
    "#print(sess.run('x:0'))\n",
    "graph = tf.get_default_graph()\n",
    "x= graph.get_tensor_by_name(\"input_image:0\")\n",
    "y= graph.get_tensor_by_name(\"input_class:0\")\n",
    "#y_predicted= graph.get_tensor_by_name(\"output/Softmax:0\")\n",
    "#print(sess.run(tf.get_default_graph().get_tensor_by_name('output:0')))\n",
    "\n",
    "#print(y_predicted)\n",
    "print(x)\n",
    "print(y)\n",
    "print(y_predicted)\n",
    "#names=[tensor.name for tensor in tf.get_default_graph().as_graph_def().node]\n",
    "\n"
   ]
  },
  {
   "cell_type": "code",
   "execution_count": null,
   "metadata": {},
   "outputs": [],
   "source": [
    "\n",
    "    "
   ]
  },
  {
   "cell_type": "code",
   "execution_count": null,
   "metadata": {},
   "outputs": [],
   "source": []
  },
  {
   "cell_type": "code",
   "execution_count": 9,
   "metadata": {},
   "outputs": [
    {
     "name": "stdout",
     "output_type": "stream",
     "text": [
      "Garbage uncleaned\n"
     ]
    }
   ],
   "source": [
    "def process_img(img):\n",
    "        img=img.resize((56, 56), Image.ANTIALIAS) #resize the image\n",
    "        img = np.array(img)\n",
    "        img=img/np.max(img).astype(float) \n",
    "        img=np.reshape(img, [1,56,56,3])\n",
    "        return img\n",
    "\n",
    "imagepath='/home/srikanth/python/kaggledataset/bin_images/testingmodel/bin1'\n",
    "test_image=Image.open(imagepath)\n",
    "test_image= process_img(test_image)\n",
    "predicted_array,= sess.run(y_predicted, feed_dict={x: test_image})\n",
    "predicted_class= np.argmax(predicted_array)\n",
    "if predicted_class==0:\n",
    "    s1='Cleaned Binn' \n",
    "    print(s1)\n",
    "else :\n",
    "    s1='Garbage uncleaned'\n",
    "    print(s1)"
   ]
  },
  {
   "cell_type": "code",
   "execution_count": null,
   "metadata": {},
   "outputs": [],
   "source": [
    "\"\"\"\n",
    "#test your own images \n",
    "# retrieving each image from database and test each image and updated the status into the database\n",
    "db = mysql.connector.connect(user='root', password='murali123',host='localhost',database='murali')\n",
    "cursor=db.cursor()\n",
    "# retriving image from the database\n",
    "sql1='select id,imgpath from imagedata'\n",
    "cursor.execute(sql1)\n",
    "rows=cursor.fetchall()\n",
    "for row in rows:\n",
    "    print(row[0])\n",
    "    data1=base64.b64decode(row[1])\n",
    "    file_like=io.BytesIO(data1)\n",
    "    test_image=Image.open(file_like)\n",
    "    id1=row[0]\n",
    "    imagepath=row[1]\n",
    "    test_image=Image.open(imagepath)\n",
    "    test_image= process_img(test_image)\n",
    "    predicted_array= sess.run(y_predicted, feed_dict={x: test_image})\n",
    "    predicted_class= np.argmax(predicted_array)\n",
    "    if predicted_class==0:\n",
    "        s1='Cleaned Binn' \n",
    "    else :\n",
    "        s1='Garbage uncleaned'\n",
    "\n",
    "\n",
    "\n",
    "\n",
    "\n",
    "\n",
    "\n",
    "\n",
    "\n",
    "\n",
    "\n",
    "\n",
    "\n",
    "\n",
    "\n",
    "\n",
    "\n",
    "\n",
    "pre= graph.get_tensor_by_name('y_predicted:0')\n",
    "\n",
    "w1 = graph.get_operation_by_name(\"cross_entropy:0\")\n",
    "w2 = graph.get_tensor_by_name(\"train_step:0\")\n",
    "w1 = graph.get_tensor_by_name(\"correct_prediction:0\")\n",
    "w1 = graph.get_tensor_by_name(\"accuracy:0\")\n",
    "\n",
    "\n",
    "y_predicted = tf.get_collection(\"y_predicted\")\n",
    "x=tf.placeholder(tf.float32,shape=[None,56,56,3] , name='input_image') \n",
    "\n",
    "\n",
    "def process_img(img):\n",
    "        img=img.resize((56, 56), Image.ANTIALIAS) #resize the image\n",
    "        img = np.array(img)\n",
    "        img=img/np.max(img).astype(float) \n",
    "        img=np.reshape(img, [1,56,56,3])\n",
    "        return img\n",
    "\n",
    "imagepath='/home/srikanth/python/kaggledataset/bin_images/testingmodel/emptyspace1'\n",
    "test_image=Image.open(imagepath)\n",
    "test_image= process_img(test_image)\n",
    "predicted_array= sess.run(y_predicted, feed_dict={x: test_image})\n",
    "predicted_class= np.argmax(predicted_array)\n",
    "if predicted_class==0:\n",
    "    s1='Cleaned Binn' \n",
    "    print(s1)\n",
    "else :\n",
    "    s1='Garbage uncleaned'\n",
    "    print(s1)\n",
    "    \n",
    "    \"\"\""
   ]
  }
 ],
 "metadata": {
  "kernelspec": {
   "display_name": "Python 3",
   "language": "python",
   "name": "python3"
  },
  "language_info": {
   "codemirror_mode": {
    "name": "ipython",
    "version": 3
   },
   "file_extension": ".py",
   "mimetype": "text/x-python",
   "name": "python",
   "nbconvert_exporter": "python",
   "pygments_lexer": "ipython3",
   "version": "3.6.8"
  }
 },
 "nbformat": 4,
 "nbformat_minor": 2
}
