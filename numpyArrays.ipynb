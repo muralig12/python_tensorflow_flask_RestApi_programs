#!/usr/bin/env python3
# -*- coding: utf-8 -*-
"""
Created on Fri Sep 21 15:07:47 2018

@author: srikanth
"""
# -*- coding: utf-8 -*-
"""
Spyder Editor

This is a temporary script file.
"""
import numpy as np
print(np.__version__)

l1=[1,2,3,4,5]
arr=np.array(l1)
print(arr)

l2=[[1,2,3],[4,5,6],[7,8,9]]
arr=np.array(l2)
print(arr)

print(np.arange(0,10))

print(np.zeros((4,4)))

print(np.eye(3))

print(np.linspace(1,4,10))

print("random numbers")
print(np.random.rand(5))

print(np.random.randn(5))

print("prints random number between 1-100")
print(np.random.randint(1,100))
print("prints 10 random numbers  between 1-100")
print(np.random.randint(1,100,10))


arr=np.random.randint(1,100,10)
print(arr.reshape(5,2))
print(arr.max(),arr.argmax())
print(arr.min(),arr.argmin())
print(arr.dtype)

from numpy.random import randint
print(randint(2,10))




