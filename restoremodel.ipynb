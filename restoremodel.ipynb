{
 "cells": [
  {
   "cell_type": "code",
   "execution_count": null,
   "metadata": {},
   "outputs": [],
   "source": []
  },
  {
   "cell_type": "code",
   "execution_count": null,
   "metadata": {},
   "outputs": [],
   "source": [
    "# session parameters\n",
    "sess = tf.InteractiveSession()\n",
    "#initialising variables\n",
    "init = tf.global_variables_initializer()\n",
    "sess.run(init)\n",
    "saver = tf.train.Saver()\n",
    "save_path=saver.save(sess,\"/home/srikanth/python/kaggledataset/bin_images/binorgarbage.ckpt\")"
   ]
  },
  {
   "cell_type": "code",
   "execution_count": null,
   "metadata": {},
   "outputs": [],
   "source": [
    "def process_img(img):\n",
    "        img=img.resize((56, 56), Image.ANTIALIAS) #resize the image\n",
    "        img = np.array(img)\n",
    "        img=img/np.max(img).astype(float) \n",
    "        img=np.reshape(img, [1,56,56,3])\n",
    "        return img"
   ]
  },
  {
   "cell_type": "code",
   "execution_count": null,
   "metadata": {},
   "outputs": [],
   "source": [
    "#test your own images \n",
    "test_image=Image.open('/home/srikanth/python/kaggledataset/bin_images/testingmodel/bin20')\n",
    "test_image= process_img(test_image)\n",
    "predicted_array= sess.run(y_predicted, feed_dict={x: test_image})\n",
    "predicted_class= np.argmax(predicted_array)\n",
    "if predicted_class==0:\n",
    "    print(\"It is a Cleaned Bin\")  \n",
    "else :\n",
    "    print (\"It is a Garbage uncleaned\")\n",
    "\n",
    "def process_img(img):\n",
    "        img=img.resize((56, 56), Image.ANTIALIAS) #resize the image\n",
    "        img = np.array(img)\n",
    "        img=img/np.max(img).astype(float) \n",
    "        img=np.reshape(img, [1,56,56,3])\n",
    "        return img"
   ]
  },
  {
   "cell_type": "code",
   "execution_count": null,
   "metadata": {},
   "outputs": [],
   "source": [
    "tf.reset_default_graph()\n",
    "\n",
    "# Create some variables.\n",
    "v1 = tf.get_variable(\"v1\", shape=[3])\n",
    "v2 = tf.get_variable(\"v2\", shape=[5])\n",
    "\n",
    "# Add ops to save and restore all the variables.\n",
    "saver = tf.train.Saver()\n",
    "\n",
    "# Later, launch the model, use the saver to restore variables from disk, and\n",
    "# do some work with the model.\n",
    "with tf.Session() as sess:\n",
    "  # Restore variables from disk.\n",
    "  saver.restore(sess, \"/tmp/model.ckpt\")\n",
    "  print(\"Model restored.\")\n",
    "  # Check the values of the variables\n",
    "  print(\"v1 : %s\" % v1.eval())\n",
    "  print(\"v2 : %s\" % v2.eval())"
   ]
  }
 ],
 "metadata": {
  "kernelspec": {
   "display_name": "Python 3",
   "language": "python",
   "name": "python3"
  },
  "language_info": {
   "codemirror_mode": {
    "name": "ipython",
    "version": 3
   },
   "file_extension": ".py",
   "mimetype": "text/x-python",
   "name": "python",
   "nbconvert_exporter": "python",
   "pygments_lexer": "ipython3",
   "version": "3.6.6"
  }
 },
 "nbformat": 4,
 "nbformat_minor": 2
}
