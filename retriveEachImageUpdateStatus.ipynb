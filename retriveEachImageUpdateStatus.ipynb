{
 "cells": [
  {
   "cell_type": "code",
   "execution_count": null,
   "metadata": {},
   "outputs": [],
   "source": [
    "#importing necessary packages\n",
    "import numpy as np\n",
    "import matplotlib.pyplot as plt \n",
    "import tensorflow as tf\n",
    "import tflearn\n",
    "import tensorflow as tf\n",
    "from PIL import Image\n",
    "%matplotlib inline\n",
    "#for writing text files\n",
    "import glob\n",
    "import os     \n",
    "import random \n",
    "#reading images from a text file\n",
    "from tflearn.data_utils import image_preloader\n",
    "import math"
   ]
  },
  {
   "cell_type": "code",
   "execution_count": null,
   "metadata": {},
   "outputs": [],
   "source": []
  },
  {
   "cell_type": "code",
   "execution_count": 1,
   "metadata": {},
   "outputs": [
    {
     "ename": "IndentationError",
     "evalue": "unexpected indent (<ipython-input-1-ab1bd2c892a0>, line 28)",
     "output_type": "error",
     "traceback": [
      "\u001b[0;36m  File \u001b[0;32m\"<ipython-input-1-ab1bd2c892a0>\"\u001b[0;36m, line \u001b[0;32m28\u001b[0m\n\u001b[0;31m    if predicted_class==0:\u001b[0m\n\u001b[0m    ^\u001b[0m\n\u001b[0;31mIndentationError\u001b[0m\u001b[0;31m:\u001b[0m unexpected indent\n"
     ]
    }
   ],
   "source": [
    "import mysql.connector\n",
    "import sys\n",
    "from PIL import Image\n",
    "import base64\n",
    "\n",
    "import io\n",
    "import flask\n",
    "from io import StringIO\n",
    "from PIL import Image\n",
    "\n",
    "db = mysql.connector.connect(user='root', password='murali123',\n",
    "                              host='localhost',\n",
    "                              database='murali')\n",
    "cursor=db.cursor()\n",
    "\n",
    "# retriving image from the database\n",
    "sql1='select id,imagepath from imageloc'\n",
    "cursor.execute(sql1)\n",
    "rows=cursor.fetchall()\n",
    "for row in rows:\n",
    "    #print(row[0])\n",
    "    #data1=base64.b64decode(row[1])\n",
    "    #file_like=io.BytesIO(data1)\n",
    "    #img=Image.open(file_like)\n",
    "    #test_image=Image.open(img)\n",
    "    predicted_array= sess.run(y_predicted, feed_dict={x: test_image})\n",
    "    predicted_class= np.argmax(predicted_array)\n",
    "        if predicted_class==0:\n",
    "            s1='Cleaned Binn' \n",
    "        else :\n",
    "            s1='Garbage uncleaned'\n",
    "    cursor.execute(\"\"\"update img set status=%s where id=%s\"\"\",(s1,id1))\n",
    "    db.commit()\n",
    "cursor.close()\n",
    "db.close()"
   ]
  },
  {
   "cell_type": "code",
   "execution_count": null,
   "metadata": {},
   "outputs": [],
   "source": [
    "#test your own images \n",
    "#imagepath='/home/srikanth/python/kaggledataset/bin_images/testingmodel/gar1'\n"
   ]
  }
 ],
 "metadata": {
  "kernelspec": {
   "display_name": "Python 3",
   "language": "python",
   "name": "python3"
  },
  "language_info": {
   "codemirror_mode": {
    "name": "ipython",
    "version": 3
   },
   "file_extension": ".py",
   "mimetype": "text/x-python",
   "name": "python",
   "nbconvert_exporter": "python",
   "pygments_lexer": "ipython3",
   "version": "3.6.6"
  }
 },
 "nbformat": 4,
 "nbformat_minor": 2
}
