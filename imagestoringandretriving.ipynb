{
 "cells": [
  {
   "cell_type": "code",
   "execution_count": 15,
   "metadata": {},
   "outputs": [
    {
     "name": "stdout",
     "output_type": "stream",
     "text": [
      "('/home/srikanth/python/kaggleda',)\n",
      "('/home/srikanth/python/kaggledataset/bin_images/tes',)\n",
      "('/home/srikanth/python/kaggledataset/bin_images/tes',)\n",
      "('/home/srikanth/python/kaggledataset/bin_images/tes',)\n",
      "('/home/srikanth/python/kaggledataset/bin_images/tes',)\n",
      "('/home/srikanth/python/kaggledataset/bin_images/tes',)\n",
      "('/home/srikanth/python/kaggledataset/bin_images/tes',)\n",
      "('/home/srikanth/python/kaggledataset/bin_images/tes',)\n",
      "('/home/srikanth/python/kaggledataset/bin_images/tes',)\n",
      "('/home/srikanth/python/kaggledataset/bin_images/tes',)\n"
     ]
    }
   ],
   "source": [
    "import mysql.connector\n",
    "import sys\n",
    "from PIL import Image\n",
    "import base64\n",
    "db = mysql.connector.connect(user='root', password='murali123',\n",
    "                              host='localhost',\n",
    "                              database='murali')\n",
    "cursor=db.cursor()\n",
    "\n",
    "\"\"\"\n",
    "path='/home/srikanth/python/kaggledataset/bin_images/testingmodel/gar13'\n",
    "s1='image'\n",
    "#image = Image.open('/home/srikanth/python/kaggledataset/bin_images/testingmodel/bin2')\n",
    "#blob_value = open('/home/srikanth/python/kaggledataset/bin_images/testingmodel/gar16', 'rb').read()\n",
    "#with open('/home/srikanth/python/kaggledataset/bin_images/testingmodel/gar1', 'rb') as f:\n",
    " # blob_value = base64.b64encode(f.read())\n",
    "sql = 'INSERT INTO imageloc(imagepath,imgstatus) VALUES(%s,%s)'    \n",
    "args = (path,s1)\n",
    "cursor.execute(sql,args)\n",
    "db.commit()\n",
    "\n",
    "\n",
    "\"\"\"\n",
    "# retriving image from the database\n",
    "sql1='select imagepath from imageloc'\n",
    "cursor.execute(sql1)\n",
    "rows=cursor.fetchall()\n",
    "#print(type(data[0][1]))\n",
    "for row in rows:\n",
    "    print(row)\n",
    "    \"\"\"data1=base64.b64decode(row[1])\n",
    "    file_like=io.BytesIO(data1)\n",
    "    img=Image.open(file_like)\n",
    "    img.show()\"\"\"\n",
    "cursor.close()\n",
    "db.close()\n",
    "\n"
   ]
  },
  {
   "cell_type": "code",
   "execution_count": null,
   "metadata": {},
   "outputs": [],
   "source": []
  }
 ],
 "metadata": {
  "kernelspec": {
   "display_name": "Python 3",
   "language": "python",
   "name": "python3"
  },
  "language_info": {
   "codemirror_mode": {
    "name": "ipython",
    "version": 3
   },
   "file_extension": ".py",
   "mimetype": "text/x-python",
   "name": "python",
   "nbconvert_exporter": "python",
   "pygments_lexer": "ipython3",
   "version": "3.6.6"
  }
 },
 "nbformat": 4,
 "nbformat_minor": 2
}
