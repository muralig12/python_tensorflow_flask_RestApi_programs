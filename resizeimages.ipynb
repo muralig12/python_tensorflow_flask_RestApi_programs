{
 "cells": [
  {
   "cell_type": "code",
   "execution_count": 4,
   "metadata": {},
   "outputs": [],
   "source": [
    "import numpy as np\n",
    "\n",
    "def process_img(img):\n",
    "        img=img.resize((100, 100), Image.ANTIALIAS) #resize the image\n",
    "        img = np.array(img)\n",
    "        img=img/np.max(img).astype(float) \n",
    "        img=np.reshape(img, [1,100,100,3])\n",
    "        return img\n",
    "\n"
   ]
  },
  {
   "cell_type": "code",
   "execution_count": 5,
   "metadata": {},
   "outputs": [],
   "source": [
    "from PIL import Image\n",
    "from glob import glob\n",
    "for fname in glob('/home/user/python/opencv/face_recognition/TestImages/*.jpeg'):\n",
    "    test_image=Image.open(fname)\n",
    "    test_image= process_img(test_image)\n",
    "    "
   ]
  },
  {
   "cell_type": "code",
   "execution_count": null,
   "metadata": {},
   "outputs": [],
   "source": []
  }
 ],
 "metadata": {
  "kernelspec": {
   "display_name": "Python 3",
   "language": "python",
   "name": "python3"
  },
  "language_info": {
   "codemirror_mode": {
    "name": "ipython",
    "version": 3
   },
   "file_extension": ".py",
   "mimetype": "text/x-python",
   "name": "python",
   "nbconvert_exporter": "python",
   "pygments_lexer": "ipython3",
   "version": "3.7.3"
  }
 },
 "nbformat": 4,
 "nbformat_minor": 2
}
