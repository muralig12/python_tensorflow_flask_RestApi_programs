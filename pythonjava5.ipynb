{
 "cells": [
  {
   "cell_type": "code",
   "execution_count": 6,
   "metadata": {},
   "outputs": [],
   "source": [
    "import numpy as np\n",
    "import matplotlib.pyplot as plt \n",
    "import tensorflow as tf\n",
    "import tflearn\n",
    "from tflearn.data_utils import image_preloader\n",
    "\n",
    "import tensorflow as tf\n",
    "from PIL import Image\n",
    "%matplotlib inline"
   ]
  },
  {
   "cell_type": "code",
   "execution_count": null,
   "metadata": {},
   "outputs": [
    {
     "name": "stdout",
     "output_type": "stream",
     "text": [
      "INFO:tensorflow:Restoring parameters from /home/srikanth/python/kaggledataset/bin_images/binorgarbage.ckpt\n"
     ]
    }
   ],
   "source": [
    "sess = tf.Session()\n",
    "#saver.restore(sess, \"/home/srikanth/python/kaggledataset/bin_images/binorgarbage.ckpt\")\n",
    "saver = tf.train.import_meta_graph(\"/home/srikanth/python/kaggledataset/bin_images/binorgarbage.ckpt.meta\")\n",
    "saver.restore(sess, tf.train.latest_checkpoint('/home/srikanth/python/kaggledataset/bin_images/'))\n",
    "#sess.run(tf.initialize_all_variables())   \n",
    "#print(sess.run('x:0'))\n",
    "graph = tf.get_default_graph()"
   ]
  },
  {
   "cell_type": "code",
   "execution_count": 5,
   "metadata": {},
   "outputs": [
    {
     "ename": "NameError",
     "evalue": "name 'sess' is not defined",
     "output_type": "error",
     "traceback": [
      "\u001b[0;31m---------------------------------------------------------------------------\u001b[0m",
      "\u001b[0;31mNameError\u001b[0m                                 Traceback (most recent call last)",
      "\u001b[0;32m<ipython-input-5-fe8ac4fb907b>\u001b[0m in \u001b[0;36m<module>\u001b[0;34m\u001b[0m\n\u001b[1;32m     10\u001b[0m \u001b[0mtest_image\u001b[0m\u001b[0;34m=\u001b[0m\u001b[0mImage\u001b[0m\u001b[0;34m.\u001b[0m\u001b[0mopen\u001b[0m\u001b[0;34m(\u001b[0m\u001b[0mimagepath\u001b[0m\u001b[0;34m)\u001b[0m\u001b[0;34m\u001b[0m\u001b[0m\n\u001b[1;32m     11\u001b[0m \u001b[0mtest_image\u001b[0m\u001b[0;34m=\u001b[0m \u001b[0mprocess_img\u001b[0m\u001b[0;34m(\u001b[0m\u001b[0mtest_image\u001b[0m\u001b[0;34m)\u001b[0m\u001b[0;34m\u001b[0m\u001b[0m\n\u001b[0;32m---> 12\u001b[0;31m \u001b[0mpredicted_array\u001b[0m\u001b[0;34m,\u001b[0m\u001b[0;34m=\u001b[0m \u001b[0msess\u001b[0m\u001b[0;34m.\u001b[0m\u001b[0mrun\u001b[0m\u001b[0;34m(\u001b[0m\u001b[0my_predicted\u001b[0m\u001b[0;34m,\u001b[0m \u001b[0mfeed_dict\u001b[0m\u001b[0;34m=\u001b[0m\u001b[0;34m{\u001b[0m\u001b[0mx\u001b[0m\u001b[0;34m:\u001b[0m \u001b[0mtest_image\u001b[0m\u001b[0;34m}\u001b[0m\u001b[0;34m)\u001b[0m\u001b[0;34m\u001b[0m\u001b[0m\n\u001b[0m\u001b[1;32m     13\u001b[0m \u001b[0mpredicted_class\u001b[0m\u001b[0;34m=\u001b[0m \u001b[0mnp\u001b[0m\u001b[0;34m.\u001b[0m\u001b[0margmax\u001b[0m\u001b[0;34m(\u001b[0m\u001b[0mpredicted_array\u001b[0m\u001b[0;34m)\u001b[0m\u001b[0;34m\u001b[0m\u001b[0m\n\u001b[1;32m     14\u001b[0m \u001b[0;32mif\u001b[0m \u001b[0mpredicted_class\u001b[0m\u001b[0;34m==\u001b[0m\u001b[0;36m0\u001b[0m\u001b[0;34m:\u001b[0m\u001b[0;34m\u001b[0m\u001b[0m\n",
      "\u001b[0;31mNameError\u001b[0m: name 'sess' is not defined"
     ]
    }
   ],
   "source": [
    "def process_img(img):\n",
    "        img=img.resize((56, 56), Image.ANTIALIAS) #resize the image\n",
    "        img = np.array(img)\n",
    "        img=img/np.max(img).astype(float) \n",
    "        img=np.reshape(img, [1,56,56,3])\n",
    "        return img\n",
    "#from binsgarbageclassifier import y_predicted \n",
    "y_predicted=[]\n",
    "imagepath='/home/srikanth/python/kaggledataset/bin_images/testingmodel/gar'\n",
    "test_image=Image.open(imagepath)\n",
    "test_image= process_img(test_image)\n",
    "predicted_array,= sess.run(y_predicted, feed_dict={x: test_image})\n",
    "predicted_class= np.argmax(predicted_array)\n",
    "if predicted_class==0:\n",
    "    s1='Cleaned Binn' \n",
    "    print(s1)\n",
    "else :\n",
    "    s1='Garbage uncleaned'\n",
    "    print(s1)"
   ]
  },
  {
   "cell_type": "code",
   "execution_count": null,
   "metadata": {},
   "outputs": [],
   "source": []
  }
 ],
 "metadata": {
  "kernelspec": {
   "display_name": "Python 3",
   "language": "python",
   "name": "python3"
  },
  "language_info": {
   "codemirror_mode": {
    "name": "ipython",
    "version": 3
   },
   "file_extension": ".py",
   "mimetype": "text/x-python",
   "name": "python",
   "nbconvert_exporter": "python",
   "pygments_lexer": "ipython3",
   "version": "3.6.6"
  }
 },
 "nbformat": 4,
 "nbformat_minor": 2
}
